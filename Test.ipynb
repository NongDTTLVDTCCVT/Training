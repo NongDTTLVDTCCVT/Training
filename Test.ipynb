{
 "cells": [
  {
   "cell_type": "code",
   "execution_count": 15,
   "id": "a8cea82f-acd9-45cb-83fe-388124e4e115",
   "metadata": {
    "scrolled": true
   },
   "outputs": [
    {
     "name": "stdout",
     "output_type": "stream",
     "text": [
      "👉 Nhãn: Corn_(maize)___healthy\n",
      "🔹 Độ tin cậy: 0.939\n",
      "\n",
      "🔝 Top 3 dự đoán:\n",
      "Corn_(maize)___healthy: 0.939\n",
      "Grape___healthy: 0.060\n",
      "Corn_(maize)___Common_rust: 0.001\n"
     ]
    }
   ],
   "source": [
    "import tensorflow as tf\n",
    "import numpy as np\n",
    "from PIL import Image\n",
    "\n",
    "# --- Đường dẫn ---\n",
    "model_path = r\"plant_model.tflite\"\n",
    "labels_path = r\"labels.txt\"\n",
    "img_path = r\"D:\\plant_villages\\color\\Corn_(maize)___Common_rust\\RS_Rust 2738.JPG\"\n",
    "\n",
    "# --- Load model ---\n",
    "interpreter = tf.lite.Interpreter(model_path=model_path)\n",
    "interpreter.allocate_tensors()\n",
    "input_details = interpreter.get_input_details()\n",
    "output_details = interpreter.get_output_details()\n",
    "\n",
    "# --- Load labels ---\n",
    "with open(labels_path, \"r\", encoding=\"utf-8\") as f:\n",
    "    labels = [line.strip() for line in f.readlines()]\n",
    "\n",
    "# --- Xử lý ảnh đúng cách (chuẩn hóa [0,1]) ---\n",
    "img = Image.open(img_path).convert(\"RGB\").resize((224, 224))\n",
    "input_data = np.expand_dims(np.float32(img) / 255.0, axis=0)\n",
    "\n",
    "# --- Dự đoán ---\n",
    "interpreter.set_tensor(input_details[0]['index'], input_data)\n",
    "interpreter.invoke()\n",
    "output_data = interpreter.get_tensor(output_details[0]['index'])[0]\n",
    "\n",
    "# --- Hiển thị kết quả ---\n",
    "pred_idx = np.argmax(output_data)\n",
    "confidence = output_data[pred_idx]\n",
    "print(f\"👉 Nhãn: {labels[pred_idx]}\")\n",
    "print(f\"🔹 Độ tin cậy: {confidence:.3f}\")\n",
    "\n",
    "# Top 3 kết quả\n",
    "top3_idx = np.argsort(output_data)[::-1][:3]\n",
    "print(\"\\n🔝 Top 3 dự đoán:\")\n",
    "for i in top3_idx:\n",
    "    print(f\"{labels[i]}: {output_data[i]:.3f}\")\n"
   ]
  },
  {
   "cell_type": "code",
   "execution_count": 17,
   "id": "81a5e1d9-3cce-4eb3-a7e8-c04701b88705",
   "metadata": {
    "scrolled": true
   },
   "outputs": [
    {
     "name": "stderr",
     "output_type": "stream",
     "text": [
      "WARNING:absl:Compiled the loaded model, but the compiled metrics have yet to be built. `model.compile_metrics` will be empty until you train or evaluate the model.\n"
     ]
    },
    {
     "name": "stdout",
     "output_type": "stream",
     "text": [
      "\u001b[1m1/1\u001b[0m \u001b[32m━━━━━━━━━━━━━━━━━━━━\u001b[0m\u001b[37m\u001b[0m \u001b[1m1s\u001b[0m 709ms/step\n",
      "Ảnh: D:\\plant_villages\\color\\Corn_(maize)___Common_rust\\RS_Rust 2738.JPG\n",
      "--> Nhãn: 5, Độ tin cậy: 0.9390\n",
      "\u001b[1m1/1\u001b[0m \u001b[32m━━━━━━━━━━━━━━━━━━━━\u001b[0m\u001b[37m\u001b[0m \u001b[1m0s\u001b[0m 58ms/step\n",
      "Ảnh: D:\\plant_villages\\color\\Apple___Apple_scab\\ff99efdc-a9f8-4360-9c64-f8274f456be5___FREC_Scab 3161.JPG\n",
      "--> Nhãn: 5, Độ tin cậy: 0.9369\n",
      "\u001b[1m1/1\u001b[0m \u001b[32m━━━━━━━━━━━━━━━━━━━━\u001b[0m\u001b[37m\u001b[0m \u001b[1m0s\u001b[0m 50ms/step\n",
      "Ảnh: C:\\Users\\impor\\Downloads\\3978901481_3be68f63c3_z.jpg\n",
      "--> Nhãn: 5, Độ tin cậy: 0.9365\n"
     ]
    }
   ],
   "source": [
    "from tensorflow.keras.models import load_model\n",
    "from PIL import Image\n",
    "import numpy as np\n",
    "\n",
    "model = load_model(r\"plant_model_final.h5\")\n",
    "\n",
    "def predict_image(img_path):\n",
    "    img = Image.open(img_path).convert(\"RGB\").resize((224, 224))\n",
    "    arr = np.expand_dims(np.float32(img) / 255.0, axis=0)\n",
    "    pred = model.predict(arr)\n",
    "    idx = np.argmax(pred)\n",
    "    conf = np.max(pred)\n",
    "    print(f\"Ảnh: {img_path}\")\n",
    "    print(f\"--> Nhãn: {idx}, Độ tin cậy: {conf:.4f}\")\n",
    "\n",
    "# test vài ảnh\n",
    "predict_image(r\"D:\\plant_villages\\color\\Corn_(maize)___Common_rust\\RS_Rust 2738.JPG\")\n",
    "predict_image(r\"D:\\plant_villages\\color\\Apple___Apple_scab\\ff99efdc-a9f8-4360-9c64-f8274f456be5___FREC_Scab 3161.JPG\")\n",
    "predict_image(r\"C:\\Users\\impor\\Downloads\\3978901481_3be68f63c3_z.jpg\")\n"
   ]
  },
  {
   "cell_type": "code",
   "execution_count": null,
   "id": "a8ad73a2-f9e1-4ebf-a9ff-d474d642315e",
   "metadata": {},
   "outputs": [],
   "source": []
  }
 ],
 "metadata": {
  "kernelspec": {
   "display_name": "Python [conda env:anaconda-ml-ai]",
   "language": "python",
   "name": "conda-env-anaconda-ml-ai-py"
  },
  "language_info": {
   "codemirror_mode": {
    "name": "ipython",
    "version": 3
   },
   "file_extension": ".py",
   "mimetype": "text/x-python",
   "name": "python",
   "nbconvert_exporter": "python",
   "pygments_lexer": "ipython3",
   "version": "3.11.13"
  }
 },
 "nbformat": 4,
 "nbformat_minor": 5
}
